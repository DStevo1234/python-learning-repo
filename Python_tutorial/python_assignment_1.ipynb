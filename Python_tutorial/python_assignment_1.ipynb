{
 "cells": [
  {
   "cell_type": "code",
   "execution_count": 20,
   "metadata": {},
   "outputs": [
    {
     "name": "stdout",
     "output_type": "stream",
     "text": [
      "{'x': 7, 'y': 5, 'sum_1': 12, 'sub_1': 2, 'sqx_1': 49, 'sqy_1': 25, 'x2y_1': 16807}\n"
     ]
    }
   ],
   "source": [
    "var_1 = {'x':7,'y':5}\n",
    "var_1['sum_1'] = var_1['x'] + var_1['y']\n",
    "var_1['sub_1'] = var_1['x'] - var_1['y']\n",
    "var_1['sqx_1'] = var_1['x'] ** 2\n",
    "var_1['sqy_1'] = var_1['y'] ** 2\n",
    "var_1['x2y_1'] = var_1['x'] ** var_1['y']       \n",
    "print(var_1)\n",
    "\n"
   ]
  },
  {
   "cell_type": "code",
   "execution_count": 34,
   "metadata": {},
   "outputs": [
    {
     "name": "stdout",
     "output_type": "stream",
     "text": [
      "XXXXXXXXXXXX 4444\n"
     ]
    }
   ],
   "source": [
    "ccno_1 = \"4444444444444444\"\n",
    "last4_1 = ccno_1[-4:]\n",
    "print('X'*12,last4_1)\n",
    "\n"
   ]
  }
 ],
 "metadata": {
  "kernelspec": {
   "display_name": "Python 3",
   "language": "python",
   "name": "python3"
  },
  "language_info": {
   "codemirror_mode": {
    "name": "ipython",
    "version": 3
   },
   "file_extension": ".py",
   "mimetype": "text/x-python",
   "name": "python",
   "nbconvert_exporter": "python",
   "pygments_lexer": "ipython3",
   "version": "3.10.13"
  }
 },
 "nbformat": 4,
 "nbformat_minor": 2
}
