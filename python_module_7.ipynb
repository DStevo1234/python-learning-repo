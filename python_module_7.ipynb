{
 "cells": [
  {
   "cell_type": "code",
   "execution_count": null,
   "metadata": {},
   "outputs": [],
   "source": [
    "import pandas as pd\n",
    "import plotly.express as px\n",
    "import statsmodels as sm\n",
    "\n",
    "# Importin file and amending columns\n",
    "\n",
    "filepath = r'https://raw.githubusercontent.com/data-to-insight/ERN-sessions/main/data/1980%202023%20average%20house%20prices.csv'\n",
    "\n",
    "df = pd.read_csv(filepath)\n",
    "\n",
    "df['Period'] = pd.to_datetime(df['Period'], format='%Y-%m', errors='coerce')\n",
    "\n",
    "# Other mapping tools: matplotlib, seaborn\n",
    "\n",
    "# Basic scatter graph\n",
    "\n",
    "scatter_1 = px.scatter(df,\n",
    "                       x='Period',\n",
    "                       y='Average price All property types')\n",
    "\n",
    "scatter_1.show()\n",
    "\n",
    "# Scatter graph with labelled x and y axis, title and line of best fit\n",
    "\n",
    "scatter_2 = px.scatter(df,\n",
    "                       y='Average price All property types',\n",
    "                       x='Period',\n",
    "                       title='Average house prices over time',\n",
    "                       labels={'Period':'Time period',\n",
    "                               'Average price All property types':'Price (£)'},\n",
    "                       trendline='ols')\n",
    "scatter_2.show()"
   ]
  }
 ],
 "metadata": {
  "language_info": {
   "name": "python"
  }
 },
 "nbformat": 4,
 "nbformat_minor": 2
}
